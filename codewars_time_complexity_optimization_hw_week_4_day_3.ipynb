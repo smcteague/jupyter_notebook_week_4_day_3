{
 "cells": [
  {
   "cell_type": "markdown",
   "id": "6f512dfe",
   "metadata": {},
   "source": [
    "# #1 - Original Version"
   ]
  },
  {
   "cell_type": "code",
   "execution_count": 1,
   "id": "32b1c8a6",
   "metadata": {},
   "outputs": [
    {
     "name": "stdout",
     "output_type": "stream",
     "text": [
      "https://www.codewars.com/kata/54ff3102c1bad923760001f3\n"
     ]
    }
   ],
   "source": [
    "print(\"https://www.codewars.com/kata/54ff3102c1bad923760001f3\")\n",
    "\n",
    "input_to_test = \"abracadabra y ei\"\n"
   ]
  },
  {
   "cell_type": "code",
   "execution_count": 2,
   "id": "e18be769",
   "metadata": {},
   "outputs": [],
   "source": [
    "def get_count(sentence):\n",
    "    vowels = ['a', 'e', 'i', 'o', 'u'] # O(1)\n",
    "    count = 0 # O(1)\n",
    "    for letter in sentence: # O(n) time complexity\n",
    "        for vowel in vowels: # O(n) time complexity\n",
    "            if vowel in letter: # O(n) time complexity\n",
    "                count += 1 # O(1)\n",
    "    return count\n",
    "\n",
    "# Worst (nested) section is O(n^3) time complexity\n"
   ]
  },
  {
   "cell_type": "code",
   "execution_count": 3,
   "id": "e3b7939f",
   "metadata": {},
   "outputs": [
    {
     "data": {
      "text/plain": [
       "7"
      ]
     },
     "execution_count": 3,
     "metadata": {},
     "output_type": "execute_result"
    }
   ],
   "source": [
    "# Show output\n",
    "\n",
    "get_count(input_to_test)\n"
   ]
  },
  {
   "cell_type": "markdown",
   "id": "4c9ba809",
   "metadata": {},
   "source": [
    "# #1 - Time Complexity Optimized Version"
   ]
  },
  {
   "cell_type": "code",
   "execution_count": 4,
   "id": "093157ad",
   "metadata": {},
   "outputs": [],
   "source": [
    "def get_count(sentence):\n",
    "\n",
    "    vowels_list = ['a', 'e', 'i', 'o', 'u'] # O(1)\n",
    "\n",
    "    letters_dict = {letter for letter in set(sentence)} # O(n)\n",
    "    \n",
    "    count = 0 # O(1)\n",
    "    \n",
    "    for letter in sentence: # O(n)\n",
    "        if letter in vowels_list: # O(1) because reference list is fixed size always \n",
    "            count += 1 # O(1)\n",
    "   \n",
    "    return count\n",
    "    \n",
    "# Worst section is O(n) time complexity\n"
   ]
  },
  {
   "cell_type": "code",
   "execution_count": 5,
   "id": "aba3dc64",
   "metadata": {},
   "outputs": [
    {
     "data": {
      "text/plain": [
       "7"
      ]
     },
     "execution_count": 5,
     "metadata": {},
     "output_type": "execute_result"
    }
   ],
   "source": [
    "# Show output\n",
    "\n",
    "get_count(input_to_test)\n"
   ]
  },
  {
   "cell_type": "markdown",
   "id": "4a118260",
   "metadata": {},
   "source": [
    "# #2 - Original Version"
   ]
  },
  {
   "cell_type": "code",
   "execution_count": 6,
   "id": "b70d826a",
   "metadata": {},
   "outputs": [
    {
     "name": "stdout",
     "output_type": "stream",
     "text": [
      "https://www.codewars.com/kata/520b9d2ad5c005041100000f\n"
     ]
    }
   ],
   "source": [
    "print(\"https://www.codewars.com/kata/520b9d2ad5c005041100000f\")\n",
    "\n",
    "input_to_test = \"Veni vidi vici !\"\n"
   ]
  },
  {
   "cell_type": "code",
   "execution_count": 7,
   "id": "3c566153",
   "metadata": {},
   "outputs": [],
   "source": [
    "def pig_it(text):\n",
    "    words = text.split(\" \") # O(n)\n",
    "    pig_word_front = \"\" # O(1)\n",
    "    pig_word_end = \"\" # O(1)\n",
    "    pig_word_punc = \"\" # O(1)\n",
    "    pig_words = \"\" # O(1)\n",
    "    for word in words: # O(n)\n",
    "        for index, letter in enumerate(word): # O(n)\n",
    "            if index == 0: # O(1)\n",
    "                if ord(letter) >= 65: # O(1)\n",
    "                    pig_word_end = letter + \"ay \" # O(1)\n",
    "                else:\n",
    "                    pig_word_end = letter + \" \" # O(1)\n",
    "            else:\n",
    "                pig_word_front += letter # O(1)\n",
    "        pig_words += pig_word_front + pig_word_end # O(1)\n",
    "        pig_word_front = \"\" # O(1)\n",
    "        pig__word_end = \"\" # O(1)\n",
    "    pig_words = pig_words[:-1] # O(n)\n",
    "    return pig_words\n",
    "\n",
    "# Worst (nested) section is O(n^2) time complexity\n"
   ]
  },
  {
   "cell_type": "code",
   "execution_count": 8,
   "id": "59fe3801",
   "metadata": {},
   "outputs": [
    {
     "data": {
      "text/plain": [
       "'eniVay idivay icivay !'"
      ]
     },
     "execution_count": 8,
     "metadata": {},
     "output_type": "execute_result"
    }
   ],
   "source": [
    "# Show output\n",
    "\n",
    "pig_it(input_to_test)\n"
   ]
  },
  {
   "cell_type": "markdown",
   "id": "cb183b79",
   "metadata": {},
   "source": [
    "# #2 - Time Complexity Optimized Version"
   ]
  },
  {
   "cell_type": "code",
   "execution_count": 9,
   "id": "b509d270",
   "metadata": {},
   "outputs": [],
   "source": [
    "\n",
    "\n",
    "\n",
    "# TO DO: still a work in progress\n",
    "\n",
    "# Pop(1) first letter, save to variable, and add to end + \"ay\" # O(1)\n",
    "\n",
    "# .isalpha() on a single character is ok as O(1)\n",
    "\n",
    "# if needed: regex findall and search are O(1) --- do outside of loop to find all non-\\w (or \\W)\n",
    "\n",
    "\n",
    "def pig_it(text):\n",
    "    words = text.split(\" \") # O(n)\n",
    "    pig_word_front = \"\" # O(1)\n",
    "    pig_word_end = \"\" # O(1)\n",
    "    pig_word_punc = \"\" # O(1)\n",
    "    pig_words = \"\" # O(1)\n",
    "    \n",
    "    for word in words: # O(n)\n",
    "        \n",
    "        for index, letter in enumerate(word): # O(n)\n",
    "            \n",
    "            if index == 0: # O(1)\n",
    "                if ord(letter) >= 65: # O(1)\n",
    "                    pig_word_end = letter + \"ay \" # O(1)\n",
    "                else:\n",
    "                    pig_word_end = letter + \" \" # O(1)\n",
    "            else:\n",
    "                pig_word_front += letter # O(1)\n",
    "                \n",
    "        pig_words += pig_word_front + pig_word_end # O(1)\n",
    "        pig_word_front = \"\" # O(1)\n",
    "        pig__word_end = \"\" # O(1)\n",
    "    pig_words = pig_words[:-1] # O(n)\n",
    "    return pig_words\n",
    "\n",
    "\n",
    "\n",
    "\n",
    "# Worst section is \n",
    "\n",
    "\n",
    "\n"
   ]
  },
  {
   "cell_type": "code",
   "execution_count": 10,
   "id": "f3fc2b4f",
   "metadata": {},
   "outputs": [
    {
     "data": {
      "text/plain": [
       "'eniVay idivay icivay !'"
      ]
     },
     "execution_count": 10,
     "metadata": {},
     "output_type": "execute_result"
    }
   ],
   "source": [
    "# Show output\n",
    "\n",
    "pig_it(input_to_test)\n"
   ]
  },
  {
   "cell_type": "markdown",
   "id": "25d07b0d",
   "metadata": {},
   "source": [
    "# #3 - Original Version"
   ]
  },
  {
   "cell_type": "code",
   "execution_count": 11,
   "id": "bfb1afe7",
   "metadata": {},
   "outputs": [
    {
     "name": "stdout",
     "output_type": "stream",
     "text": [
      "https://www.codewars.com/kata/55c04b4cc56a697bb0000048\n"
     ]
    }
   ],
   "source": [
    "print(\"https://www.codewars.com/kata/55c04b4cc56a697bb0000048\")\n",
    "\n",
    "input1_to_test = \"cedewaraaossoqqyt\"\n",
    "input2_to_test = \"codewars\"\n"
   ]
  },
  {
   "cell_type": "code",
   "execution_count": 12,
   "id": "48882406",
   "metadata": {},
   "outputs": [],
   "source": [
    "def scramble(s1, s2):\n",
    "    for letter in set(s2): # O(n)\n",
    "        if s1.count(letter) < s2.count(letter): # O(n)\n",
    "            return False\n",
    "    return True\n",
    "\n",
    "# Worst (nested) section is O(n^2) time complexity\n"
   ]
  },
  {
   "cell_type": "code",
   "execution_count": 13,
   "id": "7ead4915",
   "metadata": {},
   "outputs": [
    {
     "data": {
      "text/plain": [
       "True"
      ]
     },
     "execution_count": 13,
     "metadata": {},
     "output_type": "execute_result"
    }
   ],
   "source": [
    "# Show output\n",
    "\n",
    "scramble(input1_to_test, input2_to_test)\n"
   ]
  },
  {
   "cell_type": "markdown",
   "id": "289e448b",
   "metadata": {},
   "source": [
    "# #3 - Time Complexity Optimized Version"
   ]
  },
  {
   "cell_type": "code",
   "execution_count": 14,
   "id": "e8c9564d",
   "metadata": {},
   "outputs": [],
   "source": [
    "def scramble(s1, s2):\n",
    "    \n",
    "    letters1_dict = {letter for letter in s1} # O(n)\n",
    "   \n",
    "    for letter2 in s2: # O(n)\n",
    "        if letter2 not in letters1_dict: # O(n)\n",
    "            return False\n",
    "        else:\n",
    "            continue\n",
    "    return True\n",
    "\n",
    "# Worst section is O(n) time complexity\n"
   ]
  },
  {
   "cell_type": "code",
   "execution_count": 15,
   "id": "8fbecf5c",
   "metadata": {},
   "outputs": [
    {
     "data": {
      "text/plain": [
       "True"
      ]
     },
     "execution_count": 15,
     "metadata": {},
     "output_type": "execute_result"
    }
   ],
   "source": [
    "# Show output\n",
    "\n",
    "scramble(input1_to_test, input2_to_test)\n"
   ]
  },
  {
   "cell_type": "markdown",
   "id": "0645e642",
   "metadata": {},
   "source": [
    "# FYI - All my completed Code Wars solutions"
   ]
  },
  {
   "cell_type": "code",
   "execution_count": 16,
   "id": "4f4257fb",
   "metadata": {},
   "outputs": [],
   "source": [
    "def parts_sums(ls):\n",
    "    sum_list = [sum(ls)]\n",
    "    while ls:\n",
    "        sum_list.append(sum_list[-1] - ls[0])\n",
    "        ls.pop(0)\n",
    "    \n",
    "    return sum_list"
   ]
  },
  {
   "cell_type": "code",
   "execution_count": 17,
   "id": "071b0407",
   "metadata": {},
   "outputs": [],
   "source": [
    "def pig_it(text):\n",
    "    words = text.split(\" \")\n",
    "    pig_word_front = \"\"\n",
    "    pig_word_end = \"\"\n",
    "    pig_word_punc = \"\"\n",
    "    pig_words = \"\"\n",
    "    for word in words:\n",
    "        for index, letter in enumerate(word):\n",
    "            if index == 0:\n",
    "                if ord(letter) >= 65:\n",
    "                    print(ord(letter))\n",
    "                    pig_word_end = letter + \"ay \"\n",
    "                else:\n",
    "                    print(ord(letter))\n",
    "                    pig_word_end = letter + \" \"\n",
    "            else:\n",
    "                pig_word_front += letter\n",
    "        pig_words += pig_word_front + pig_word_end\n",
    "        pig_word_front = \"\"\n",
    "        pig__word_end = \"\"\n",
    "    pig_words = pig_words[:-1]\n",
    "    print(pig_words)\n",
    "    return pig_words"
   ]
  },
  {
   "cell_type": "code",
   "execution_count": 18,
   "id": "bf561e24",
   "metadata": {},
   "outputs": [],
   "source": [
    "def spin_words(sentence):\n",
    "    words = sentence.split(\" \")\n",
    "    letters = []\n",
    "    spun_words = []\n",
    "    for word in words:\n",
    "        if len(word) >= 5:\n",
    "            for letter in word:\n",
    "                letters.append(letter)\n",
    "            letters.reverse()\n",
    "            word = \"\".join(letters)\n",
    "            letters = []\n",
    "            spun_words.append(word)\n",
    "            print(word)\n",
    "            word = \"\"\n",
    "        else:\n",
    "            spun_words.append(word)\n",
    "    spun_words_sentence = \" \".join(spun_words)\n",
    "    return spun_words_sentence"
   ]
  },
  {
   "cell_type": "code",
   "execution_count": 19,
   "id": "e01a03a1",
   "metadata": {},
   "outputs": [],
   "source": [
    "def count_photos(road):\n",
    "    \n",
    "    cams = 0\n",
    "    cars_l = 0\n",
    "    cars_r = 0    \n",
    "    photos = 0\n",
    "\n",
    "    for i in road:\n",
    "        if i == \">\":\n",
    "            cars_r += 1\n",
    "        if i == \".\":\n",
    "            cams += 1\n",
    "            photos += cars_r\n",
    "        if i == \"<\":\n",
    "            photos += cams\n",
    "            \n",
    "    return photos"
   ]
  },
  {
   "cell_type": "code",
   "execution_count": 20,
   "id": "6f4bc4e8",
   "metadata": {},
   "outputs": [],
   "source": [
    "def digital_root(n):\n",
    "    r = 0\n",
    "    if n < 10:\n",
    "        return n\n",
    "    else:\n",
    "        for i in str(n):\n",
    "            r += int(i)\n",
    "        return digital_root(r) "
   ]
  },
  {
   "cell_type": "code",
   "execution_count": 21,
   "id": "09f758b4",
   "metadata": {},
   "outputs": [],
   "source": [
    "def find_it(seq):\n",
    "    print(seq)\n",
    "    return max([i for i in seq if seq.count(i) % 2 != 0])"
   ]
  },
  {
   "cell_type": "code",
   "execution_count": 22,
   "id": "336213bc",
   "metadata": {},
   "outputs": [],
   "source": [
    "def create_phone_number(n):\n",
    "    n.insert(0, \"(\")\n",
    "    n.insert(4, \")\")\n",
    "    n.insert(5, \" \")\n",
    "    n.insert(9, \"-\")\n",
    "    return ''.join(str(l) for l in n)"
   ]
  },
  {
   "cell_type": "code",
   "execution_count": 23,
   "id": "7e0824b7",
   "metadata": {},
   "outputs": [],
   "source": [
    "def solution(s):\n",
    "    r = list(s)\n",
    "    count = 0\n",
    "    for i in range(len(s)):\n",
    "        if s[i].isupper():\n",
    "            r.insert(i+count, \" \")\n",
    "            count += 1\n",
    "    return ''.join(r)"
   ]
  },
  {
   "cell_type": "code",
   "execution_count": 24,
   "id": "745564ef",
   "metadata": {},
   "outputs": [],
   "source": [
    "def likes(names):\n",
    "    if len(names) == 1:\n",
    "        return f\"{names[0]} likes this\"\n",
    "    elif len(names) == 2:\n",
    "        return f\"{names[0]} and {names[1]} like this\" \n",
    "    elif len(names) == 3:\n",
    "        return f\"{names[0]}, {names[1]} and {names[2]} like this\" \n",
    "    elif len(names) > 3:\n",
    "        return f\"{names[0]}, {names[1]} and {len(names)-2} others like this\"  \n",
    "    else:\n",
    "        return \"no one likes this\""
   ]
  },
  {
   "cell_type": "code",
   "execution_count": 25,
   "id": "8af5453c",
   "metadata": {},
   "outputs": [],
   "source": [
    "def check_for_factor(base, factor):\n",
    "    if base % factor == 0:\n",
    "        return True\n",
    "    return False"
   ]
  },
  {
   "cell_type": "code",
   "execution_count": 26,
   "id": "400f3781",
   "metadata": {},
   "outputs": [],
   "source": [
    "def solution(number):\n",
    "    alist = []\n",
    "    for num in range(1, number):\n",
    "        if num % 3 == 0 and num % 5 == 0:\n",
    "            alist.append(num)\n",
    "        elif num % 3 == 0 or num % 5 == 0:\n",
    "            alist.append(num)\n",
    "    return sum(alist)"
   ]
  },
  {
   "cell_type": "code",
   "execution_count": 27,
   "id": "c423c61c",
   "metadata": {},
   "outputs": [],
   "source": [
    "def remove_exclamation_marks(s):\n",
    "    return s.replace(\"!\", \"\")"
   ]
  },
  {
   "cell_type": "code",
   "execution_count": 28,
   "id": "49551f18",
   "metadata": {},
   "outputs": [],
   "source": [
    "def greet(language):\n",
    "    print(language)\n",
    "    if isinstance(language, str) and language.strip() != \"\" and language.upper().strip() != \"IP_ADDRESS_INVALID\" and language.upper().strip() != \"IP_ADDRESS_NOT_FOUND\" and language.upper().strip() != \"IP_ADDRESS_REQUIRED\":\n",
    "        languages = {\n",
    "            'english': 'Welcome',\n",
    "            'czech': 'Vitejte',\n",
    "            'danish': 'Velkomst',\n",
    "            'dutch': 'Welkom',\n",
    "            'estonian': 'Tere tulemast',\n",
    "            'finnish': 'Tervetuloa',\n",
    "            'flemish': 'Welgekomen',\n",
    "            'french': 'Bienvenue',\n",
    "            'german': 'Willkommen',\n",
    "            'irish': 'Failte',\n",
    "            'italian': 'Benvenuto',\n",
    "            'latvian': 'Gaidits',\n",
    "            'lithuanian': 'Laukiamas',\n",
    "            'polish': 'Witamy',\n",
    "            'spanish': 'Bienvenido',\n",
    "            'swedish': 'Valkommen',\n",
    "            'welsh': 'Croeso'\n",
    "        }\n",
    "        for language_db, greeting_db in languages.items():\n",
    "            if language.lower().strip() == language_db:\n",
    "                return(greeting_db)\n",
    "    else:\n",
    "        return(\"Welcome\")"
   ]
  },
  {
   "cell_type": "code",
   "execution_count": 29,
   "id": "0d26b718",
   "metadata": {},
   "outputs": [],
   "source": [
    "def rps(p1, p2):\n",
    "    if p1 == \"rock\" and p2 == \"paper\":\n",
    "        return \"Player 2 won!\"\n",
    "    elif p1 == \"rock\" and p2 == \"scissors\":\n",
    "        return \"Player 1 won!\"\n",
    "    elif p1 == \"rock\" and p2 == \"rock\":\n",
    "        return \"Draw!\"\n",
    "    elif p1 == \"paper\" and p2 == \"rock\":\n",
    "        return \"Player 1 won!\"\n",
    "    elif p1 == \"paper\" and p2 == \"scissors\":\n",
    "        return \"Player 2 won!\"\n",
    "    elif p1 == \"paper\" and p2 == \"paper\":\n",
    "        return \"Draw!\"\n",
    "    elif p1 == \"scissors\" and p2 == \"rock\":\n",
    "        return \"Player 2 won!\"\n",
    "    elif p1 == \"scissors\" and p2 == \"paper\":\n",
    "        return \"Player 1 won!\"\n",
    "    elif p1 == \"scissors\" and p2 == \"scissors\":\n",
    "        return \"Draw!\""
   ]
  },
  {
   "cell_type": "code",
   "execution_count": 30,
   "id": "c49bc3ca",
   "metadata": {},
   "outputs": [],
   "source": [
    "def scramble(s1, s2):\n",
    "    for letter in set(s2):\n",
    "        if s1.count(letter) < s2.count(letter):\n",
    "            return False\n",
    "    return True"
   ]
  },
  {
   "cell_type": "code",
   "execution_count": 31,
   "id": "1592fe3d",
   "metadata": {},
   "outputs": [],
   "source": [
    "def find_smallest_int(arr):\n",
    "    return min(arr)"
   ]
  },
  {
   "cell_type": "code",
   "execution_count": 32,
   "id": "b7d08e38",
   "metadata": {},
   "outputs": [],
   "source": [
    "def min_max(lst):\n",
    "    return [min(lst), max(lst)]"
   ]
  },
  {
   "cell_type": "code",
   "execution_count": 33,
   "id": "15826743",
   "metadata": {},
   "outputs": [],
   "source": [
    "def count_by(x, n):\n",
    "    print(x, n)\n",
    "    stop = (n * x) + 1\n",
    "    return [i for i in range(x, stop, x)]"
   ]
  },
  {
   "cell_type": "code",
   "execution_count": 34,
   "id": "990b7ae5",
   "metadata": {},
   "outputs": [],
   "source": [
    "def get_count(sentence):\n",
    "    vowels = ['a', 'e', 'i', 'o', 'u']\n",
    "    count = 0\n",
    "    for letter in sentence:\n",
    "        for vowel in vowels:\n",
    "            if vowel in letter:\n",
    "                count += 1\n",
    "    return count"
   ]
  },
  {
   "cell_type": "code",
   "execution_count": 35,
   "id": "e58b3343",
   "metadata": {},
   "outputs": [],
   "source": [
    "def is_square(n):    \n",
    "    if n % 4 == 0 or n % 4 == 1:\n",
    "        return True\n",
    "    return False"
   ]
  },
  {
   "cell_type": "code",
   "execution_count": 36,
   "id": "0b60a779",
   "metadata": {},
   "outputs": [],
   "source": [
    "def is_square(n):\n",
    "    if (n ** (0.5)) * (n ** (0.5)) == n:\n",
    "        return True\n",
    "    else:\n",
    "        return False"
   ]
  },
  {
   "cell_type": "code",
   "execution_count": 37,
   "id": "15abded6",
   "metadata": {},
   "outputs": [],
   "source": [
    "def remove_smallest(numbers):\n",
    "    final_list = []\n",
    "    counter = 0\n",
    "    if numbers:\n",
    "        min_num = min(numbers)\n",
    "        for number in numbers:\n",
    "            if number == min_num and counter == 0:\n",
    "                counter += 1\n",
    "                continue\n",
    "            final_list.append(number)\n",
    "    return final_list"
   ]
  },
  {
   "cell_type": "code",
   "execution_count": 38,
   "id": "a36dd263",
   "metadata": {},
   "outputs": [],
   "source": [
    "def make_negative( number ):\n",
    "    if number > 0:\n",
    "        return number * -1\n",
    "    else:\n",
    "        return number"
   ]
  },
  {
   "cell_type": "code",
   "execution_count": 39,
   "id": "3f8cfde3",
   "metadata": {},
   "outputs": [],
   "source": [
    "def string_to_number(s):\n",
    "    return(int(s))"
   ]
  },
  {
   "cell_type": "code",
   "execution_count": 40,
   "id": "0406b963",
   "metadata": {},
   "outputs": [],
   "source": [
    "def double_char(s):\n",
    "    double = []\n",
    "    for letter in s:\n",
    "        double.append(letter*2)\n",
    "    return \"\".join(double)"
   ]
  },
  {
   "cell_type": "code",
   "execution_count": 41,
   "id": "29637b5b",
   "metadata": {},
   "outputs": [],
   "source": [
    "import math\n",
    "\n",
    "def find_next_square(sq):   \n",
    "    if sq == 0:\n",
    "        return -1\n",
    "    if (math.sqrt(sq) / int(math.sqrt(sq))) != 1.0:\n",
    "        return -1\n",
    "    else:\n",
    "        result = False\n",
    "        while not result:\n",
    "            sq += 1\n",
    "            if (math.sqrt(sq) / int(math.sqrt(sq))) == 1.0:\n",
    "                result = True\n",
    "                return sq\n",
    "            else:\n",
    "                result = False"
   ]
  },
  {
   "cell_type": "code",
   "execution_count": 42,
   "id": "ba786abc",
   "metadata": {},
   "outputs": [],
   "source": [
    "def paperwork(n, m):\n",
    "    if n>0 and m>0:\n",
    "        return n*m\n",
    "    else:\n",
    "        return 0"
   ]
  },
  {
   "cell_type": "code",
   "execution_count": 43,
   "id": "ff64be77",
   "metadata": {},
   "outputs": [],
   "source": [
    "def count_sheeps(sheep):\n",
    "    c = 0\n",
    "    for x in sheep:\n",
    "        if x:\n",
    "            c += 1\n",
    "    return c"
   ]
  },
  {
   "cell_type": "code",
   "execution_count": 44,
   "id": "10431895",
   "metadata": {},
   "outputs": [],
   "source": [
    "def sum_array(a):\n",
    "    if a:\n",
    "        return sum(a)\n",
    "    else:\n",
    "        return 0"
   ]
  },
  {
   "cell_type": "code",
   "execution_count": 45,
   "id": "ffbf6dd9",
   "metadata": {},
   "outputs": [],
   "source": [
    "import string\n",
    "from string import ascii_lowercase\n",
    "\n",
    "def is_pangram(s): \n",
    "    a = ''.join(filter(str.isalpha, s))\n",
    "    r = ''\n",
    "    for c in ascii_lowercase:\n",
    "        if a.find(c) >= 0 or a.find(c.upper()) >= 0:\n",
    "            r += c\n",
    "    if len(r) == 26:\n",
    "        return True\n",
    "    else:\n",
    "        return False"
   ]
  },
  {
   "cell_type": "code",
   "execution_count": 46,
   "id": "dc84a05c",
   "metadata": {},
   "outputs": [],
   "source": [
    "def square_sum(numbers):\n",
    "    r = [x**2 for x in numbers]\n",
    "    return sum(r)"
   ]
  },
  {
   "cell_type": "code",
   "execution_count": 47,
   "id": "2636f697",
   "metadata": {},
   "outputs": [],
   "source": [
    "def reverse_seq(n):\n",
    "    return [x-1 for x in range(n+1, 1, -1)]"
   ]
  },
  {
   "cell_type": "code",
   "execution_count": 48,
   "id": "643d60e4",
   "metadata": {},
   "outputs": [],
   "source": [
    "def no_space(x):\n",
    "    return x.replace(\" \",\"\")"
   ]
  },
  {
   "cell_type": "code",
   "execution_count": 49,
   "id": "a3d8742b",
   "metadata": {},
   "outputs": [],
   "source": [
    "def find_nb(m):\n",
    "    n = 0\n",
    "    i = 0\n",
    "    while n < m:\n",
    "        i = i+1\n",
    "        n += i**3\n",
    "    if n == m:\n",
    "        return i\n",
    "    else:\n",
    "        return -1"
   ]
  },
  {
   "cell_type": "code",
   "execution_count": 50,
   "id": "430a072c",
   "metadata": {},
   "outputs": [],
   "source": [
    "def high_and_low(numbers):\n",
    "    l = [int(x) for x in numbers.split()]\n",
    "    return str(max(l)) + ' ' + str(min(l))"
   ]
  },
  {
   "cell_type": "code",
   "execution_count": 51,
   "id": "edb713c1",
   "metadata": {},
   "outputs": [],
   "source": [
    "def solution(string):\n",
    "    return string[::-1]"
   ]
  },
  {
   "cell_type": "code",
   "execution_count": 52,
   "id": "c6e42b38",
   "metadata": {},
   "outputs": [],
   "source": [
    "def count_sheep(n):\n",
    "    r = ''\n",
    "    for i in range(1,n+1):\n",
    "        r += str(i) + \" sheep...\"\n",
    "    return r"
   ]
  },
  {
   "cell_type": "code",
   "execution_count": 53,
   "id": "d8e03419",
   "metadata": {},
   "outputs": [],
   "source": [
    "def odd_or_even(arr):\n",
    "    if sum(arr) % 2 == 0:\n",
    "        return \"even\"\n",
    "    else:\n",
    "        return \"odd\""
   ]
  },
  {
   "cell_type": "code",
   "execution_count": 54,
   "id": "9dc2ca07",
   "metadata": {},
   "outputs": [],
   "source": [
    "def minimum(arr):\n",
    "    return min(arr)\n",
    "\n",
    "def maximum(arr):\n",
    "    return max(arr)"
   ]
  },
  {
   "cell_type": "code",
   "execution_count": 55,
   "id": "7dc46147",
   "metadata": {},
   "outputs": [],
   "source": [
    "def descending_order(num):\n",
    "    l = list(str(num))\n",
    "    s = sorted(l, key=int, reverse=True)\n",
    "    return int(''.join(s))"
   ]
  },
  {
   "cell_type": "code",
   "execution_count": 56,
   "id": "911e5b97",
   "metadata": {},
   "outputs": [],
   "source": [
    "def are_you_playing_banjo(name):\n",
    "    if list(name)[0].lower() == \"r\":\n",
    "        return name + \" plays banjo\"\n",
    "    else:\n",
    "        return name + \" does not play banjo\""
   ]
  },
  {
   "cell_type": "code",
   "execution_count": 57,
   "id": "e46a2aa1",
   "metadata": {},
   "outputs": [],
   "source": [
    "def accum(s):\n",
    "    r = ''\n",
    "    l = list(s)\n",
    "    for i in range(len(l)):\n",
    "        r += l[i].upper() + l[i].lower()*i\n",
    "        if i < len(l)-1:\n",
    "            r += \"-\"\n",
    "    return r"
   ]
  },
  {
   "cell_type": "code",
   "execution_count": 58,
   "id": "e8f86e57",
   "metadata": {},
   "outputs": [],
   "source": [
    "def find_needle(haystack):\n",
    "    return \"found the needle at position \" + str(haystack.index(\"needle\"))"
   ]
  },
  {
   "cell_type": "code",
   "execution_count": 59,
   "id": "5e83286c",
   "metadata": {},
   "outputs": [],
   "source": [
    "def row_sum_odd_numbers(n):\n",
    "    l = [x for x in range((n*n)+n) if x % 2 != 0]\n",
    "    return sum(l[-n:])"
   ]
  },
  {
   "cell_type": "code",
   "execution_count": 60,
   "id": "c29788b9",
   "metadata": {},
   "outputs": [],
   "source": [
    "def xo(s):\n",
    "    x = [x for x in s if x.lower() == \"x\"]\n",
    "    o = [x for x in s if x.lower() == \"o\"]\n",
    "    if len(x) == len(o):\n",
    "        return True\n",
    "    else:\n",
    "        return False"
   ]
  },
  {
   "cell_type": "code",
   "execution_count": 61,
   "id": "23f92170",
   "metadata": {},
   "outputs": [],
   "source": [
    "def square_digits(num):\n",
    "    n = list(str(num))\n",
    "    r = [str(int(x) ** 2) for x in n]\n",
    "    s = ''\n",
    "    return int(s.join(r)) "
   ]
  },
  {
   "cell_type": "code",
   "execution_count": 62,
   "id": "0462d3e1",
   "metadata": {},
   "outputs": [],
   "source": [
    "def bmi(weight, height):\n",
    "    bmi = weight / height ** 2\n",
    "    if bmi <= 18.5:\n",
    "        return \"Underweight\"\n",
    "    if bmi <= 25.0:\n",
    "        return \"Normal\"\n",
    "    if bmi <= 30.0:\n",
    "        return \"Overweight\"\n",
    "    if not isinstance(bmi, int) or bmi < 30:\n",
    "        return \"Obese\""
   ]
  },
  {
   "cell_type": "code",
   "execution_count": 63,
   "id": "dd6b3b50",
   "metadata": {},
   "outputs": [],
   "source": [
    "def basic_op(operator, value1, value2):\n",
    "    if operator == '+':\n",
    "        return value1 + value2\n",
    "    if operator == '-':\n",
    "        return value1 - value2\n",
    "    if operator == '*':\n",
    "        return value1 * value2\n",
    "    if operator == '/':\n",
    "        return value1 / value2"
   ]
  },
  {
   "cell_type": "code",
   "execution_count": 64,
   "id": "f283248e",
   "metadata": {},
   "outputs": [],
   "source": [
    "def friend(x):\n",
    "    for f in reversed(x):\n",
    "        print(f)\n",
    "        if len(f) != 4:\n",
    "            x.remove(f)\n",
    "    return x"
   ]
  },
  {
   "cell_type": "code",
   "execution_count": 65,
   "id": "652d5bb4",
   "metadata": {},
   "outputs": [],
   "source": [
    "def add_binary(a,b):\n",
    "    n = a + b\n",
    "    return format(n, 'b')"
   ]
  },
  {
   "cell_type": "code",
   "execution_count": 66,
   "id": "9ae664b0",
   "metadata": {},
   "outputs": [],
   "source": [
    "def is_isogram(string):\n",
    "    l = list(string.lower())\n",
    "    u = list(dict.fromkeys(l))\n",
    "    if len(u) < len(l):\n",
    "        return False\n",
    "    else:\n",
    "        return True"
   ]
  },
  {
   "cell_type": "code",
   "execution_count": 67,
   "id": "65e91bd1",
   "metadata": {},
   "outputs": [],
   "source": [
    "def binary_array_to_number(arr):\n",
    "    s = ''\n",
    "    s = ''.join(str(x) for x in arr)\n",
    "    return int(s, 2)"
   ]
  },
  {
   "cell_type": "code",
   "execution_count": 68,
   "id": "cd294ac6",
   "metadata": {},
   "outputs": [],
   "source": [
    "def remove_char(s):\n",
    "    a = s[1:len(s)-1]\n",
    "    return a"
   ]
  },
  {
   "cell_type": "code",
   "execution_count": 69,
   "id": "7112cea4",
   "metadata": {},
   "outputs": [],
   "source": [
    "def past(h, m, s):\n",
    "    return h * 3600000 + m * 60000 + s * 1000"
   ]
  },
  {
   "cell_type": "code",
   "execution_count": 70,
   "id": "25afecdb",
   "metadata": {},
   "outputs": [],
   "source": [
    "def validate_pin(pin):\n",
    "    if  str(pin).isnumeric() and (len(str(pin)) == 4 or len(str(pin)) == 6):\n",
    "        return True\n",
    "    else:\n",
    "        return False"
   ]
  },
  {
   "cell_type": "code",
   "execution_count": 71,
   "id": "f2c59ffc",
   "metadata": {},
   "outputs": [],
   "source": [
    "def even_or_odd(number):\n",
    "    if number % 2 == 0:\n",
    "        return \"Even\"\n",
    "    else:\n",
    "        return \"Odd\""
   ]
  },
  {
   "cell_type": "code",
   "execution_count": 72,
   "id": "7ef94d58",
   "metadata": {},
   "outputs": [],
   "source": [
    "def filter_list(l):\n",
    "    for i in l[::-1]:\n",
    "        if type(i) == str:\n",
    "            l.remove(i)\n",
    "    return l"
   ]
  },
  {
   "cell_type": "code",
   "execution_count": 73,
   "id": "0d3dd596",
   "metadata": {},
   "outputs": [],
   "source": [
    "def find_average(numbers):\n",
    "    if numbers:\n",
    "        return sum(numbers)/len(numbers)\n",
    "    else:\n",
    "        return 0"
   ]
  },
  {
   "cell_type": "code",
   "execution_count": 74,
   "id": "283a23e0",
   "metadata": {},
   "outputs": [],
   "source": [
    "def sum_array(arr):\n",
    "    if arr and len(arr) > 1:\n",
    "        arr.sort(reverse=False)\n",
    "        arr.pop(0)\n",
    "        arr.sort(reverse=True)\n",
    "        arr.pop(0)\n",
    "        return sum(arr)\n",
    "    else:\n",
    "        return 0"
   ]
  },
  {
   "cell_type": "code",
   "execution_count": 75,
   "id": "af9e6db5",
   "metadata": {},
   "outputs": [],
   "source": [
    "def rental_car_cost(d):\n",
    "    if d < 3:\n",
    "        return d*40\n",
    "    if d >= 3 and d < 7:\n",
    "        return (d*40)-20\n",
    "    if d >= 7:\n",
    "        return (d*40)-50"
   ]
  },
  {
   "cell_type": "code",
   "execution_count": 76,
   "id": "8fc7501f",
   "metadata": {},
   "outputs": [],
   "source": [
    "def greet():\n",
    "    return \"hello world!\""
   ]
  },
  {
   "cell_type": "code",
   "execution_count": 77,
   "id": "d6d6414f",
   "metadata": {},
   "outputs": [],
   "source": [
    "def make_upper_case(s):\n",
    "    return s.upper()"
   ]
  },
  {
   "cell_type": "code",
   "execution_count": 78,
   "id": "a8d507e3",
   "metadata": {},
   "outputs": [],
   "source": [
    "def summation(num):\n",
    "    a = []\n",
    "    for i in range(num+1):\n",
    "        a.append(i)\n",
    "    return sum(a)"
   ]
  },
  {
   "cell_type": "code",
   "execution_count": 79,
   "id": "0c11fff5",
   "metadata": {},
   "outputs": [],
   "source": [
    "def dna_to_rna(dna):\n",
    "    return dna.replace(\"T\", \"U\")"
   ]
  },
  {
   "cell_type": "code",
   "execution_count": 80,
   "id": "5e2d3c9e",
   "metadata": {},
   "outputs": [],
   "source": [
    "def bool_to_word(boolean):\n",
    "    if boolean == True:\n",
    "        return \"Yes\"\n",
    "    else:\n",
    "        return \"No\""
   ]
  },
  {
   "cell_type": "code",
   "execution_count": 81,
   "id": "8530f375",
   "metadata": {},
   "outputs": [],
   "source": [
    "def number_to_string(num):\n",
    "    return str(num)"
   ]
  },
  {
   "cell_type": "code",
   "execution_count": 82,
   "id": "47bba23e",
   "metadata": {},
   "outputs": [],
   "source": [
    "def invert(lst):\n",
    "    return [x * -1 for x in lst]"
   ]
  },
  {
   "cell_type": "code",
   "execution_count": 83,
   "id": "725ce581",
   "metadata": {},
   "outputs": [],
   "source": [
    "def litres(time):\n",
    "    return (time / 2) - ((time % 2)/2)"
   ]
  },
  {
   "cell_type": "code",
   "execution_count": 84,
   "id": "54ff338d",
   "metadata": {},
   "outputs": [],
   "source": [
    "def repeat_str(repeat, string):\n",
    "    str = string*repeat\n",
    "    return str"
   ]
  },
  {
   "cell_type": "code",
   "execution_count": 85,
   "id": "0052f0c5",
   "metadata": {},
   "outputs": [],
   "source": [
    "def greet(name):\n",
    "    return f\"Hello, {name} how are you doing today?\""
   ]
  },
  {
   "cell_type": "code",
   "execution_count": 86,
   "id": "57ce3412",
   "metadata": {},
   "outputs": [],
   "source": [
    "def multiply(a, b):\n",
    "    c = a * b\n",
    "    return c"
   ]
  }
 ],
 "metadata": {
  "kernelspec": {
   "display_name": "Python 3 (ipykernel)",
   "language": "python",
   "name": "python3"
  },
  "language_info": {
   "codemirror_mode": {
    "name": "ipython",
    "version": 3
   },
   "file_extension": ".py",
   "mimetype": "text/x-python",
   "name": "python",
   "nbconvert_exporter": "python",
   "pygments_lexer": "ipython3",
   "version": "3.9.12"
  }
 },
 "nbformat": 4,
 "nbformat_minor": 5
}

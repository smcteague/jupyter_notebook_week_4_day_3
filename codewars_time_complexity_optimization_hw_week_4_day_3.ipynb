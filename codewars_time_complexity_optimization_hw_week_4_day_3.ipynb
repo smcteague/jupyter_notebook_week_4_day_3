{
 "cells": [
  {
   "cell_type": "markdown",
   "id": "1a9336d6",
   "metadata": {},
   "source": [
    "# #1 - Original Version"
   ]
  },
  {
   "cell_type": "code",
   "execution_count": 1,
   "id": "b874e305",
   "metadata": {},
   "outputs": [
    {
     "name": "stdout",
     "output_type": "stream",
     "text": [
      "https://www.codewars.com/kata/54ff3102c1bad923760001f3\n"
     ]
    }
   ],
   "source": [
    "print(\"https://www.codewars.com/kata/54ff3102c1bad923760001f3\")\n",
    "\n",
    "input_to_test = \"abracadabra y ei\"\n"
   ]
  },
  {
   "cell_type": "code",
   "execution_count": 2,
   "id": "f292cbe1",
   "metadata": {},
   "outputs": [],
   "source": [
    "def get_count(sentence):\n",
    "    vowels = ['a', 'e', 'i', 'o', 'u'] # O(1)\n",
    "    count = 0 # O(1)\n",
    "    for letter in sentence: # O(n) time complexity\n",
    "        for vowel in vowels: # O(n) time complexity\n",
    "            if vowel in letter: # O(n) time complexity\n",
    "                count += 1 # O(1)\n",
    "    return count\n",
    "\n",
    "# Worst (nested) section is O(n^3) time complexity\n"
   ]
  },
  {
   "cell_type": "code",
   "execution_count": 3,
   "id": "c28d882b",
   "metadata": {},
   "outputs": [
    {
     "data": {
      "text/plain": [
       "7"
      ]
     },
     "execution_count": 3,
     "metadata": {},
     "output_type": "execute_result"
    }
   ],
   "source": [
    "# Show output\n",
    "\n",
    "get_count(input_to_test)\n"
   ]
  },
  {
   "cell_type": "markdown",
   "id": "1e508924",
   "metadata": {},
   "source": [
    "# #1 - Time Complexity Optimized Version"
   ]
  },
  {
   "cell_type": "code",
   "execution_count": 4,
   "id": "32a314ee",
   "metadata": {},
   "outputs": [],
   "source": [
    "def get_count(sentence):\n",
    "\n",
    "    vowels_list = ['a', 'e', 'i', 'o', 'u'] # O(1)\n",
    "\n",
    "    letters_dict = {letter for letter in set(sentence)} # O(n)\n",
    "    \n",
    "    count = 0 # O(1)\n",
    "    \n",
    "    for letter in sentence: # O(n)\n",
    "        if letter in vowels_list: # O(1) because reference list is fixed size always \n",
    "            count += 1 # O(1)\n",
    "   \n",
    "    return count\n",
    "    \n",
    "# Worst section is O(n) time complexity\n"
   ]
  },
  {
   "cell_type": "code",
   "execution_count": 5,
   "id": "f13cbc51",
   "metadata": {},
   "outputs": [
    {
     "data": {
      "text/plain": [
       "7"
      ]
     },
     "execution_count": 5,
     "metadata": {},
     "output_type": "execute_result"
    }
   ],
   "source": [
    "# Show output\n",
    "\n",
    "get_count(input_to_test)\n"
   ]
  },
  {
   "cell_type": "markdown",
   "id": "30d4d369",
   "metadata": {},
   "source": [
    "# #2 - Original Version"
   ]
  },
  {
   "cell_type": "code",
   "execution_count": 6,
   "id": "6bfa0dc2",
   "metadata": {},
   "outputs": [
    {
     "name": "stdout",
     "output_type": "stream",
     "text": [
      "https://www.codewars.com/kata/520b9d2ad5c005041100000f\n"
     ]
    }
   ],
   "source": [
    "print(\"https://www.codewars.com/kata/520b9d2ad5c005041100000f\")\n",
    "\n",
    "input_to_test = \"Veni vidi vici !\"\n"
   ]
  },
  {
   "cell_type": "code",
   "execution_count": 7,
   "id": "e20fa79a",
   "metadata": {},
   "outputs": [],
   "source": [
    "def pig_it(text):\n",
    "    words = text.split(\" \") # O(n)\n",
    "    pig_word_front = \"\" # O(1)\n",
    "    pig_word_end = \"\" # O(1)\n",
    "    pig_word_punc = \"\" # O(1)\n",
    "    pig_words = \"\" # O(1)\n",
    "    for word in words: # O(n)\n",
    "        for index, letter in enumerate(word): # O(n)\n",
    "            if index == 0: # O(1)\n",
    "                if ord(letter) >= 65: # O(1)\n",
    "                    pig_word_end = letter + \"ay \" # O(1)\n",
    "                else:\n",
    "                    pig_word_end = letter + \" \" # O(1)\n",
    "            else:\n",
    "                pig_word_front += letter # O(1)\n",
    "        pig_words += pig_word_front + pig_word_end # O(1)\n",
    "        pig_word_front = \"\" # O(1)\n",
    "        pig__word_end = \"\" # O(1)\n",
    "    pig_words = pig_words[:-1] # O(n)\n",
    "    return pig_words\n",
    "\n",
    "# Worst (nested) section is O(n^2) time complexity\n"
   ]
  },
  {
   "cell_type": "code",
   "execution_count": 8,
   "id": "84bd6a41",
   "metadata": {},
   "outputs": [
    {
     "data": {
      "text/plain": [
       "'eniVay idivay icivay !'"
      ]
     },
     "execution_count": 8,
     "metadata": {},
     "output_type": "execute_result"
    }
   ],
   "source": [
    "# Show output\n",
    "\n",
    "pig_it(input_to_test)\n"
   ]
  },
  {
   "cell_type": "markdown",
   "id": "85a13e2b",
   "metadata": {},
   "source": [
    "# #2 - Time Complexity Optimized Version"
   ]
  },
  {
   "cell_type": "code",
   "execution_count": 9,
   "id": "c51d1c6a",
   "metadata": {},
   "outputs": [],
   "source": [
    "\n",
    "\n",
    "\n",
    "# TO DO: still a work in progress\n",
    "\n",
    "# Pop(1) first letter, save to variable, and add to end + \"ay\" # O(1)\n",
    "\n",
    "# .isalpha() on a single character is ok as O(1)\n",
    "\n",
    "# if needed: regex findall and search are O(1) --- do outside of loop to find all non-\\w (or \\W)\n",
    "\n",
    "\n",
    "def pig_it(text):\n",
    "    words = text.split(\" \") # O(n)\n",
    "    pig_word_front = \"\" # O(1)\n",
    "    pig_word_end = \"\" # O(1)\n",
    "    pig_word_punc = \"\" # O(1)\n",
    "    pig_words = \"\" # O(1)\n",
    "    \n",
    "    for word in words: # O(n)\n",
    "        \n",
    "        for index, letter in enumerate(word): # O(n)\n",
    "            \n",
    "            if index == 0: # O(1)\n",
    "                if ord(letter) >= 65: # O(1)\n",
    "                    pig_word_end = letter + \"ay \" # O(1)\n",
    "                else:\n",
    "                    pig_word_end = letter + \" \" # O(1)\n",
    "            else:\n",
    "                pig_word_front += letter # O(1)\n",
    "                \n",
    "        pig_words += pig_word_front + pig_word_end # O(1)\n",
    "        pig_word_front = \"\" # O(1)\n",
    "        pig__word_end = \"\" # O(1)\n",
    "    pig_words = pig_words[:-1] # O(n)\n",
    "    return pig_words\n",
    "\n",
    "\n",
    "\n",
    "\n",
    "# Worst section is \n",
    "\n",
    "\n",
    "\n"
   ]
  },
  {
   "cell_type": "code",
   "execution_count": 10,
   "id": "6d8de545",
   "metadata": {},
   "outputs": [
    {
     "data": {
      "text/plain": [
       "'eniVay idivay icivay !'"
      ]
     },
     "execution_count": 10,
     "metadata": {},
     "output_type": "execute_result"
    }
   ],
   "source": [
    "# Show output\n",
    "\n",
    "pig_it(input_to_test)\n"
   ]
  },
  {
   "cell_type": "markdown",
   "id": "b72a61b0",
   "metadata": {},
   "source": [
    "# #3 - Original Version"
   ]
  },
  {
   "cell_type": "code",
   "execution_count": 11,
   "id": "46bce262",
   "metadata": {},
   "outputs": [
    {
     "name": "stdout",
     "output_type": "stream",
     "text": [
      "https://www.codewars.com/kata/55c04b4cc56a697bb0000048\n"
     ]
    }
   ],
   "source": [
    "print(\"https://www.codewars.com/kata/55c04b4cc56a697bb0000048\")\n",
    "\n",
    "input1_to_test = \"cedewaraaossoqqyt\"\n",
    "input2_to_test = \"codexwars\"\n"
   ]
  },
  {
   "cell_type": "code",
   "execution_count": 12,
   "id": "7ee4f061",
   "metadata": {},
   "outputs": [],
   "source": [
    "def scramble(s1, s2):\n",
    "    for letter in set(s2): # O(n)\n",
    "        if s1.count(letter) < s2.count(letter): # O(n)\n",
    "            return False\n",
    "    return True\n",
    "\n",
    "# Worst (nested) section is O(n^2) time complexity\n"
   ]
  },
  {
   "cell_type": "code",
   "execution_count": 13,
   "id": "0a7f546a",
   "metadata": {},
   "outputs": [
    {
     "data": {
      "text/plain": [
       "False"
      ]
     },
     "execution_count": 13,
     "metadata": {},
     "output_type": "execute_result"
    }
   ],
   "source": [
    "# Show output\n",
    "\n",
    "scramble(input1_to_test, input2_to_test)\n"
   ]
  },
  {
   "cell_type": "markdown",
   "id": "fd323286",
   "metadata": {},
   "source": [
    "# #3 - Time Complexity Optimized Version"
   ]
  },
  {
   "cell_type": "code",
   "execution_count": 91,
   "id": "66bc3e67",
   "metadata": {},
   "outputs": [],
   "source": [
    "def scramble(s1, s2):\n",
    "    \n",
    "    letters1_dict = {letter for letter in s1} # O(n)\n",
    "    \n",
    "    print(s2)\n",
    "    \n",
    "    for letter2 in s2: # O(n)\n",
    "        print(letter2)\n",
    "        if letter2 not in letters1_dict: # O(n)\n",
    "            return False\n",
    "        else:\n",
    "            return True\n",
    "\n",
    "# Worst section is O(n) time complexity\n"
   ]
  },
  {
   "cell_type": "code",
   "execution_count": 92,
   "id": "2e828a83",
   "metadata": {},
   "outputs": [
    {
     "name": "stdout",
     "output_type": "stream",
     "text": [
      "codexwars\n",
      "c\n"
     ]
    },
    {
     "data": {
      "text/plain": [
       "True"
      ]
     },
     "execution_count": 92,
     "metadata": {},
     "output_type": "execute_result"
    }
   ],
   "source": [
    "# Show output\n",
    "\n",
    "scramble(input1_to_test, input2_to_test)\n"
   ]
  },
  {
   "cell_type": "markdown",
   "id": "44a3cd12",
   "metadata": {},
   "source": [
    "# FYI - All my completed Code Wars solutions"
   ]
  },
  {
   "cell_type": "code",
   "execution_count": 16,
   "id": "ba270a5f",
   "metadata": {},
   "outputs": [],
   "source": [
    "def parts_sums(ls):\n",
    "    sum_list = [sum(ls)]\n",
    "    while ls:\n",
    "        sum_list.append(sum_list[-1] - ls[0])\n",
    "        ls.pop(0)\n",
    "    \n",
    "    return sum_list"
   ]
  },
  {
   "cell_type": "code",
   "execution_count": 17,
   "id": "c91c9845",
   "metadata": {},
   "outputs": [],
   "source": [
    "def pig_it(text):\n",
    "    words = text.split(\" \")\n",
    "    pig_word_front = \"\"\n",
    "    pig_word_end = \"\"\n",
    "    pig_word_punc = \"\"\n",
    "    pig_words = \"\"\n",
    "    for word in words:\n",
    "        for index, letter in enumerate(word):\n",
    "            if index == 0:\n",
    "                if ord(letter) >= 65:\n",
    "                    print(ord(letter))\n",
    "                    pig_word_end = letter + \"ay \"\n",
    "                else:\n",
    "                    print(ord(letter))\n",
    "                    pig_word_end = letter + \" \"\n",
    "            else:\n",
    "                pig_word_front += letter\n",
    "        pig_words += pig_word_front + pig_word_end\n",
    "        pig_word_front = \"\"\n",
    "        pig__word_end = \"\"\n",
    "    pig_words = pig_words[:-1]\n",
    "    print(pig_words)\n",
    "    return pig_words"
   ]
  },
  {
   "cell_type": "code",
   "execution_count": 18,
   "id": "0c65eef1",
   "metadata": {},
   "outputs": [],
   "source": [
    "def spin_words(sentence):\n",
    "    words = sentence.split(\" \")\n",
    "    letters = []\n",
    "    spun_words = []\n",
    "    for word in words:\n",
    "        if len(word) >= 5:\n",
    "            for letter in word:\n",
    "                letters.append(letter)\n",
    "            letters.reverse()\n",
    "            word = \"\".join(letters)\n",
    "            letters = []\n",
    "            spun_words.append(word)\n",
    "            print(word)\n",
    "            word = \"\"\n",
    "        else:\n",
    "            spun_words.append(word)\n",
    "    spun_words_sentence = \" \".join(spun_words)\n",
    "    return spun_words_sentence"
   ]
  },
  {
   "cell_type": "code",
   "execution_count": 19,
   "id": "5fa96c22",
   "metadata": {},
   "outputs": [],
   "source": [
    "def count_photos(road):\n",
    "    \n",
    "    cams = 0\n",
    "    cars_l = 0\n",
    "    cars_r = 0    \n",
    "    photos = 0\n",
    "\n",
    "    for i in road:\n",
    "        if i == \">\":\n",
    "            cars_r += 1\n",
    "        if i == \".\":\n",
    "            cams += 1\n",
    "            photos += cars_r\n",
    "        if i == \"<\":\n",
    "            photos += cams\n",
    "            \n",
    "    return photos"
   ]
  },
  {
   "cell_type": "code",
   "execution_count": 20,
   "id": "b7d96b25",
   "metadata": {},
   "outputs": [],
   "source": [
    "def digital_root(n):\n",
    "    r = 0\n",
    "    if n < 10:\n",
    "        return n\n",
    "    else:\n",
    "        for i in str(n):\n",
    "            r += int(i)\n",
    "        return digital_root(r) "
   ]
  },
  {
   "cell_type": "code",
   "execution_count": 21,
   "id": "e8b5447b",
   "metadata": {},
   "outputs": [],
   "source": [
    "def find_it(seq):\n",
    "    print(seq)\n",
    "    return max([i for i in seq if seq.count(i) % 2 != 0])"
   ]
  },
  {
   "cell_type": "code",
   "execution_count": 22,
   "id": "45656231",
   "metadata": {},
   "outputs": [],
   "source": [
    "def create_phone_number(n):\n",
    "    n.insert(0, \"(\")\n",
    "    n.insert(4, \")\")\n",
    "    n.insert(5, \" \")\n",
    "    n.insert(9, \"-\")\n",
    "    return ''.join(str(l) for l in n)"
   ]
  },
  {
   "cell_type": "code",
   "execution_count": 23,
   "id": "cbad7a18",
   "metadata": {},
   "outputs": [],
   "source": [
    "def solution(s):\n",
    "    r = list(s)\n",
    "    count = 0\n",
    "    for i in range(len(s)):\n",
    "        if s[i].isupper():\n",
    "            r.insert(i+count, \" \")\n",
    "            count += 1\n",
    "    return ''.join(r)"
   ]
  },
  {
   "cell_type": "code",
   "execution_count": 24,
   "id": "1ace6e0a",
   "metadata": {},
   "outputs": [],
   "source": [
    "def likes(names):\n",
    "    if len(names) == 1:\n",
    "        return f\"{names[0]} likes this\"\n",
    "    elif len(names) == 2:\n",
    "        return f\"{names[0]} and {names[1]} like this\" \n",
    "    elif len(names) == 3:\n",
    "        return f\"{names[0]}, {names[1]} and {names[2]} like this\" \n",
    "    elif len(names) > 3:\n",
    "        return f\"{names[0]}, {names[1]} and {len(names)-2} others like this\"  \n",
    "    else:\n",
    "        return \"no one likes this\""
   ]
  },
  {
   "cell_type": "code",
   "execution_count": 25,
   "id": "6a6a8f31",
   "metadata": {},
   "outputs": [],
   "source": [
    "def check_for_factor(base, factor):\n",
    "    if base % factor == 0:\n",
    "        return True\n",
    "    return False"
   ]
  },
  {
   "cell_type": "code",
   "execution_count": 26,
   "id": "c93fa96f",
   "metadata": {},
   "outputs": [],
   "source": [
    "def solution(number):\n",
    "    alist = []\n",
    "    for num in range(1, number):\n",
    "        if num % 3 == 0 and num % 5 == 0:\n",
    "            alist.append(num)\n",
    "        elif num % 3 == 0 or num % 5 == 0:\n",
    "            alist.append(num)\n",
    "    return sum(alist)"
   ]
  },
  {
   "cell_type": "code",
   "execution_count": 27,
   "id": "b013f6ab",
   "metadata": {},
   "outputs": [],
   "source": [
    "def remove_exclamation_marks(s):\n",
    "    return s.replace(\"!\", \"\")"
   ]
  },
  {
   "cell_type": "code",
   "execution_count": 28,
   "id": "ccd20218",
   "metadata": {},
   "outputs": [],
   "source": [
    "def greet(language):\n",
    "    print(language)\n",
    "    if isinstance(language, str) and language.strip() != \"\" and language.upper().strip() != \"IP_ADDRESS_INVALID\" and language.upper().strip() != \"IP_ADDRESS_NOT_FOUND\" and language.upper().strip() != \"IP_ADDRESS_REQUIRED\":\n",
    "        languages = {\n",
    "            'english': 'Welcome',\n",
    "            'czech': 'Vitejte',\n",
    "            'danish': 'Velkomst',\n",
    "            'dutch': 'Welkom',\n",
    "            'estonian': 'Tere tulemast',\n",
    "            'finnish': 'Tervetuloa',\n",
    "            'flemish': 'Welgekomen',\n",
    "            'french': 'Bienvenue',\n",
    "            'german': 'Willkommen',\n",
    "            'irish': 'Failte',\n",
    "            'italian': 'Benvenuto',\n",
    "            'latvian': 'Gaidits',\n",
    "            'lithuanian': 'Laukiamas',\n",
    "            'polish': 'Witamy',\n",
    "            'spanish': 'Bienvenido',\n",
    "            'swedish': 'Valkommen',\n",
    "            'welsh': 'Croeso'\n",
    "        }\n",
    "        for language_db, greeting_db in languages.items():\n",
    "            if language.lower().strip() == language_db:\n",
    "                return(greeting_db)\n",
    "    else:\n",
    "        return(\"Welcome\")"
   ]
  },
  {
   "cell_type": "code",
   "execution_count": 29,
   "id": "3790ac8d",
   "metadata": {},
   "outputs": [],
   "source": [
    "def rps(p1, p2):\n",
    "    if p1 == \"rock\" and p2 == \"paper\":\n",
    "        return \"Player 2 won!\"\n",
    "    elif p1 == \"rock\" and p2 == \"scissors\":\n",
    "        return \"Player 1 won!\"\n",
    "    elif p1 == \"rock\" and p2 == \"rock\":\n",
    "        return \"Draw!\"\n",
    "    elif p1 == \"paper\" and p2 == \"rock\":\n",
    "        return \"Player 1 won!\"\n",
    "    elif p1 == \"paper\" and p2 == \"scissors\":\n",
    "        return \"Player 2 won!\"\n",
    "    elif p1 == \"paper\" and p2 == \"paper\":\n",
    "        return \"Draw!\"\n",
    "    elif p1 == \"scissors\" and p2 == \"rock\":\n",
    "        return \"Player 2 won!\"\n",
    "    elif p1 == \"scissors\" and p2 == \"paper\":\n",
    "        return \"Player 1 won!\"\n",
    "    elif p1 == \"scissors\" and p2 == \"scissors\":\n",
    "        return \"Draw!\""
   ]
  },
  {
   "cell_type": "code",
   "execution_count": 30,
   "id": "8560d94f",
   "metadata": {},
   "outputs": [],
   "source": [
    "def scramble(s1, s2):\n",
    "    for letter in set(s2):\n",
    "        if s1.count(letter) < s2.count(letter):\n",
    "            return False\n",
    "    return True"
   ]
  },
  {
   "cell_type": "code",
   "execution_count": 31,
   "id": "fc9f1376",
   "metadata": {},
   "outputs": [],
   "source": [
    "def find_smallest_int(arr):\n",
    "    return min(arr)"
   ]
  },
  {
   "cell_type": "code",
   "execution_count": 32,
   "id": "cd3050c0",
   "metadata": {},
   "outputs": [],
   "source": [
    "def min_max(lst):\n",
    "    return [min(lst), max(lst)]"
   ]
  },
  {
   "cell_type": "code",
   "execution_count": 33,
   "id": "ef7ffe02",
   "metadata": {},
   "outputs": [],
   "source": [
    "def count_by(x, n):\n",
    "    print(x, n)\n",
    "    stop = (n * x) + 1\n",
    "    return [i for i in range(x, stop, x)]"
   ]
  },
  {
   "cell_type": "code",
   "execution_count": 34,
   "id": "b4c829d6",
   "metadata": {},
   "outputs": [],
   "source": [
    "def get_count(sentence):\n",
    "    vowels = ['a', 'e', 'i', 'o', 'u']\n",
    "    count = 0\n",
    "    for letter in sentence:\n",
    "        for vowel in vowels:\n",
    "            if vowel in letter:\n",
    "                count += 1\n",
    "    return count"
   ]
  },
  {
   "cell_type": "code",
   "execution_count": 35,
   "id": "8f530fc2",
   "metadata": {},
   "outputs": [],
   "source": [
    "def is_square(n):    \n",
    "    if n % 4 == 0 or n % 4 == 1:\n",
    "        return True\n",
    "    return False"
   ]
  },
  {
   "cell_type": "code",
   "execution_count": 36,
   "id": "32ee0f97",
   "metadata": {},
   "outputs": [],
   "source": [
    "def is_square(n):\n",
    "    if (n ** (0.5)) * (n ** (0.5)) == n:\n",
    "        return True\n",
    "    else:\n",
    "        return False"
   ]
  },
  {
   "cell_type": "code",
   "execution_count": 37,
   "id": "5ebda9e5",
   "metadata": {},
   "outputs": [],
   "source": [
    "def remove_smallest(numbers):\n",
    "    final_list = []\n",
    "    counter = 0\n",
    "    if numbers:\n",
    "        min_num = min(numbers)\n",
    "        for number in numbers:\n",
    "            if number == min_num and counter == 0:\n",
    "                counter += 1\n",
    "                continue\n",
    "            final_list.append(number)\n",
    "    return final_list"
   ]
  },
  {
   "cell_type": "code",
   "execution_count": 38,
   "id": "e1d83d50",
   "metadata": {},
   "outputs": [],
   "source": [
    "def make_negative( number ):\n",
    "    if number > 0:\n",
    "        return number * -1\n",
    "    else:\n",
    "        return number"
   ]
  },
  {
   "cell_type": "code",
   "execution_count": 39,
   "id": "6f230577",
   "metadata": {},
   "outputs": [],
   "source": [
    "def string_to_number(s):\n",
    "    return(int(s))"
   ]
  },
  {
   "cell_type": "code",
   "execution_count": 40,
   "id": "02d38195",
   "metadata": {},
   "outputs": [],
   "source": [
    "def double_char(s):\n",
    "    double = []\n",
    "    for letter in s:\n",
    "        double.append(letter*2)\n",
    "    return \"\".join(double)"
   ]
  },
  {
   "cell_type": "code",
   "execution_count": 41,
   "id": "11e04770",
   "metadata": {},
   "outputs": [],
   "source": [
    "import math\n",
    "\n",
    "def find_next_square(sq):   \n",
    "    if sq == 0:\n",
    "        return -1\n",
    "    if (math.sqrt(sq) / int(math.sqrt(sq))) != 1.0:\n",
    "        return -1\n",
    "    else:\n",
    "        result = False\n",
    "        while not result:\n",
    "            sq += 1\n",
    "            if (math.sqrt(sq) / int(math.sqrt(sq))) == 1.0:\n",
    "                result = True\n",
    "                return sq\n",
    "            else:\n",
    "                result = False"
   ]
  },
  {
   "cell_type": "code",
   "execution_count": 42,
   "id": "3ffd6826",
   "metadata": {},
   "outputs": [],
   "source": [
    "def paperwork(n, m):\n",
    "    if n>0 and m>0:\n",
    "        return n*m\n",
    "    else:\n",
    "        return 0"
   ]
  },
  {
   "cell_type": "code",
   "execution_count": 43,
   "id": "90a47f19",
   "metadata": {},
   "outputs": [],
   "source": [
    "def count_sheeps(sheep):\n",
    "    c = 0\n",
    "    for x in sheep:\n",
    "        if x:\n",
    "            c += 1\n",
    "    return c"
   ]
  },
  {
   "cell_type": "code",
   "execution_count": 44,
   "id": "1dcb96dc",
   "metadata": {},
   "outputs": [],
   "source": [
    "def sum_array(a):\n",
    "    if a:\n",
    "        return sum(a)\n",
    "    else:\n",
    "        return 0"
   ]
  },
  {
   "cell_type": "code",
   "execution_count": 45,
   "id": "c2623e54",
   "metadata": {},
   "outputs": [],
   "source": [
    "import string\n",
    "from string import ascii_lowercase\n",
    "\n",
    "def is_pangram(s): \n",
    "    a = ''.join(filter(str.isalpha, s))\n",
    "    r = ''\n",
    "    for c in ascii_lowercase:\n",
    "        if a.find(c) >= 0 or a.find(c.upper()) >= 0:\n",
    "            r += c\n",
    "    if len(r) == 26:\n",
    "        return True\n",
    "    else:\n",
    "        return False"
   ]
  },
  {
   "cell_type": "code",
   "execution_count": 46,
   "id": "9032ca02",
   "metadata": {},
   "outputs": [],
   "source": [
    "def square_sum(numbers):\n",
    "    r = [x**2 for x in numbers]\n",
    "    return sum(r)"
   ]
  },
  {
   "cell_type": "code",
   "execution_count": 47,
   "id": "3c732b6d",
   "metadata": {},
   "outputs": [],
   "source": [
    "def reverse_seq(n):\n",
    "    return [x-1 for x in range(n+1, 1, -1)]"
   ]
  },
  {
   "cell_type": "code",
   "execution_count": 48,
   "id": "9be43b2c",
   "metadata": {},
   "outputs": [],
   "source": [
    "def no_space(x):\n",
    "    return x.replace(\" \",\"\")"
   ]
  },
  {
   "cell_type": "code",
   "execution_count": 49,
   "id": "ea6b325f",
   "metadata": {},
   "outputs": [],
   "source": [
    "def find_nb(m):\n",
    "    n = 0\n",
    "    i = 0\n",
    "    while n < m:\n",
    "        i = i+1\n",
    "        n += i**3\n",
    "    if n == m:\n",
    "        return i\n",
    "    else:\n",
    "        return -1"
   ]
  },
  {
   "cell_type": "code",
   "execution_count": 50,
   "id": "81a465b6",
   "metadata": {},
   "outputs": [],
   "source": [
    "def high_and_low(numbers):\n",
    "    l = [int(x) for x in numbers.split()]\n",
    "    return str(max(l)) + ' ' + str(min(l))"
   ]
  },
  {
   "cell_type": "code",
   "execution_count": 51,
   "id": "d33b095c",
   "metadata": {},
   "outputs": [],
   "source": [
    "def solution(string):\n",
    "    return string[::-1]"
   ]
  },
  {
   "cell_type": "code",
   "execution_count": 52,
   "id": "4a231e12",
   "metadata": {},
   "outputs": [],
   "source": [
    "def count_sheep(n):\n",
    "    r = ''\n",
    "    for i in range(1,n+1):\n",
    "        r += str(i) + \" sheep...\"\n",
    "    return r"
   ]
  },
  {
   "cell_type": "code",
   "execution_count": 53,
   "id": "90653441",
   "metadata": {},
   "outputs": [],
   "source": [
    "def odd_or_even(arr):\n",
    "    if sum(arr) % 2 == 0:\n",
    "        return \"even\"\n",
    "    else:\n",
    "        return \"odd\""
   ]
  },
  {
   "cell_type": "code",
   "execution_count": 54,
   "id": "14db6100",
   "metadata": {},
   "outputs": [],
   "source": [
    "def minimum(arr):\n",
    "    return min(arr)\n",
    "\n",
    "def maximum(arr):\n",
    "    return max(arr)"
   ]
  },
  {
   "cell_type": "code",
   "execution_count": 55,
   "id": "0c514889",
   "metadata": {},
   "outputs": [],
   "source": [
    "def descending_order(num):\n",
    "    l = list(str(num))\n",
    "    s = sorted(l, key=int, reverse=True)\n",
    "    return int(''.join(s))"
   ]
  },
  {
   "cell_type": "code",
   "execution_count": 56,
   "id": "13e7ec3b",
   "metadata": {},
   "outputs": [],
   "source": [
    "def are_you_playing_banjo(name):\n",
    "    if list(name)[0].lower() == \"r\":\n",
    "        return name + \" plays banjo\"\n",
    "    else:\n",
    "        return name + \" does not play banjo\""
   ]
  },
  {
   "cell_type": "code",
   "execution_count": 57,
   "id": "4391ffef",
   "metadata": {},
   "outputs": [],
   "source": [
    "def accum(s):\n",
    "    r = ''\n",
    "    l = list(s)\n",
    "    for i in range(len(l)):\n",
    "        r += l[i].upper() + l[i].lower()*i\n",
    "        if i < len(l)-1:\n",
    "            r += \"-\"\n",
    "    return r"
   ]
  },
  {
   "cell_type": "code",
   "execution_count": 58,
   "id": "a2b58290",
   "metadata": {},
   "outputs": [],
   "source": [
    "def find_needle(haystack):\n",
    "    return \"found the needle at position \" + str(haystack.index(\"needle\"))"
   ]
  },
  {
   "cell_type": "code",
   "execution_count": 59,
   "id": "5052ab7d",
   "metadata": {},
   "outputs": [],
   "source": [
    "def row_sum_odd_numbers(n):\n",
    "    l = [x for x in range((n*n)+n) if x % 2 != 0]\n",
    "    return sum(l[-n:])"
   ]
  },
  {
   "cell_type": "code",
   "execution_count": 60,
   "id": "b5e3c38c",
   "metadata": {},
   "outputs": [],
   "source": [
    "def xo(s):\n",
    "    x = [x for x in s if x.lower() == \"x\"]\n",
    "    o = [x for x in s if x.lower() == \"o\"]\n",
    "    if len(x) == len(o):\n",
    "        return True\n",
    "    else:\n",
    "        return False"
   ]
  },
  {
   "cell_type": "code",
   "execution_count": 61,
   "id": "ba58397b",
   "metadata": {},
   "outputs": [],
   "source": [
    "def square_digits(num):\n",
    "    n = list(str(num))\n",
    "    r = [str(int(x) ** 2) for x in n]\n",
    "    s = ''\n",
    "    return int(s.join(r)) "
   ]
  },
  {
   "cell_type": "code",
   "execution_count": 62,
   "id": "ecdf28b0",
   "metadata": {},
   "outputs": [],
   "source": [
    "def bmi(weight, height):\n",
    "    bmi = weight / height ** 2\n",
    "    if bmi <= 18.5:\n",
    "        return \"Underweight\"\n",
    "    if bmi <= 25.0:\n",
    "        return \"Normal\"\n",
    "    if bmi <= 30.0:\n",
    "        return \"Overweight\"\n",
    "    if not isinstance(bmi, int) or bmi < 30:\n",
    "        return \"Obese\""
   ]
  },
  {
   "cell_type": "code",
   "execution_count": 63,
   "id": "acd572de",
   "metadata": {},
   "outputs": [],
   "source": [
    "def basic_op(operator, value1, value2):\n",
    "    if operator == '+':\n",
    "        return value1 + value2\n",
    "    if operator == '-':\n",
    "        return value1 - value2\n",
    "    if operator == '*':\n",
    "        return value1 * value2\n",
    "    if operator == '/':\n",
    "        return value1 / value2"
   ]
  },
  {
   "cell_type": "code",
   "execution_count": 64,
   "id": "5f520dcd",
   "metadata": {},
   "outputs": [],
   "source": [
    "def friend(x):\n",
    "    for f in reversed(x):\n",
    "        print(f)\n",
    "        if len(f) != 4:\n",
    "            x.remove(f)\n",
    "    return x"
   ]
  },
  {
   "cell_type": "code",
   "execution_count": 65,
   "id": "749a4a02",
   "metadata": {},
   "outputs": [],
   "source": [
    "def add_binary(a,b):\n",
    "    n = a + b\n",
    "    return format(n, 'b')"
   ]
  },
  {
   "cell_type": "code",
   "execution_count": 66,
   "id": "2b45c169",
   "metadata": {},
   "outputs": [],
   "source": [
    "def is_isogram(string):\n",
    "    l = list(string.lower())\n",
    "    u = list(dict.fromkeys(l))\n",
    "    if len(u) < len(l):\n",
    "        return False\n",
    "    else:\n",
    "        return True"
   ]
  },
  {
   "cell_type": "code",
   "execution_count": 67,
   "id": "81643e66",
   "metadata": {},
   "outputs": [],
   "source": [
    "def binary_array_to_number(arr):\n",
    "    s = ''\n",
    "    s = ''.join(str(x) for x in arr)\n",
    "    return int(s, 2)"
   ]
  },
  {
   "cell_type": "code",
   "execution_count": 68,
   "id": "755c1601",
   "metadata": {},
   "outputs": [],
   "source": [
    "def remove_char(s):\n",
    "    a = s[1:len(s)-1]\n",
    "    return a"
   ]
  },
  {
   "cell_type": "code",
   "execution_count": 69,
   "id": "db9c0e73",
   "metadata": {},
   "outputs": [],
   "source": [
    "def past(h, m, s):\n",
    "    return h * 3600000 + m * 60000 + s * 1000"
   ]
  },
  {
   "cell_type": "code",
   "execution_count": 70,
   "id": "4ce052bc",
   "metadata": {},
   "outputs": [],
   "source": [
    "def validate_pin(pin):\n",
    "    if  str(pin).isnumeric() and (len(str(pin)) == 4 or len(str(pin)) == 6):\n",
    "        return True\n",
    "    else:\n",
    "        return False"
   ]
  },
  {
   "cell_type": "code",
   "execution_count": 71,
   "id": "b3fdb324",
   "metadata": {},
   "outputs": [],
   "source": [
    "def even_or_odd(number):\n",
    "    if number % 2 == 0:\n",
    "        return \"Even\"\n",
    "    else:\n",
    "        return \"Odd\""
   ]
  },
  {
   "cell_type": "code",
   "execution_count": 72,
   "id": "7fa31bce",
   "metadata": {},
   "outputs": [],
   "source": [
    "def filter_list(l):\n",
    "    for i in l[::-1]:\n",
    "        if type(i) == str:\n",
    "            l.remove(i)\n",
    "    return l"
   ]
  },
  {
   "cell_type": "code",
   "execution_count": 73,
   "id": "99300889",
   "metadata": {},
   "outputs": [],
   "source": [
    "def find_average(numbers):\n",
    "    if numbers:\n",
    "        return sum(numbers)/len(numbers)\n",
    "    else:\n",
    "        return 0"
   ]
  },
  {
   "cell_type": "code",
   "execution_count": 74,
   "id": "a5339f75",
   "metadata": {},
   "outputs": [],
   "source": [
    "def sum_array(arr):\n",
    "    if arr and len(arr) > 1:\n",
    "        arr.sort(reverse=False)\n",
    "        arr.pop(0)\n",
    "        arr.sort(reverse=True)\n",
    "        arr.pop(0)\n",
    "        return sum(arr)\n",
    "    else:\n",
    "        return 0"
   ]
  },
  {
   "cell_type": "code",
   "execution_count": 75,
   "id": "6672367e",
   "metadata": {},
   "outputs": [],
   "source": [
    "def rental_car_cost(d):\n",
    "    if d < 3:\n",
    "        return d*40\n",
    "    if d >= 3 and d < 7:\n",
    "        return (d*40)-20\n",
    "    if d >= 7:\n",
    "        return (d*40)-50"
   ]
  },
  {
   "cell_type": "code",
   "execution_count": 76,
   "id": "6bacc237",
   "metadata": {},
   "outputs": [],
   "source": [
    "def greet():\n",
    "    return \"hello world!\""
   ]
  },
  {
   "cell_type": "code",
   "execution_count": 77,
   "id": "64928b50",
   "metadata": {},
   "outputs": [],
   "source": [
    "def make_upper_case(s):\n",
    "    return s.upper()"
   ]
  },
  {
   "cell_type": "code",
   "execution_count": 78,
   "id": "53dfbc3f",
   "metadata": {},
   "outputs": [],
   "source": [
    "def summation(num):\n",
    "    a = []\n",
    "    for i in range(num+1):\n",
    "        a.append(i)\n",
    "    return sum(a)"
   ]
  },
  {
   "cell_type": "code",
   "execution_count": 79,
   "id": "d7d0152a",
   "metadata": {},
   "outputs": [],
   "source": [
    "def dna_to_rna(dna):\n",
    "    return dna.replace(\"T\", \"U\")"
   ]
  },
  {
   "cell_type": "code",
   "execution_count": 80,
   "id": "cef05a5e",
   "metadata": {},
   "outputs": [],
   "source": [
    "def bool_to_word(boolean):\n",
    "    if boolean == True:\n",
    "        return \"Yes\"\n",
    "    else:\n",
    "        return \"No\""
   ]
  },
  {
   "cell_type": "code",
   "execution_count": 81,
   "id": "5f51c66e",
   "metadata": {},
   "outputs": [],
   "source": [
    "def number_to_string(num):\n",
    "    return str(num)"
   ]
  },
  {
   "cell_type": "code",
   "execution_count": 82,
   "id": "71ac4e24",
   "metadata": {},
   "outputs": [],
   "source": [
    "def invert(lst):\n",
    "    return [x * -1 for x in lst]"
   ]
  },
  {
   "cell_type": "code",
   "execution_count": 83,
   "id": "3034151d",
   "metadata": {},
   "outputs": [],
   "source": [
    "def litres(time):\n",
    "    return (time / 2) - ((time % 2)/2)"
   ]
  },
  {
   "cell_type": "code",
   "execution_count": 84,
   "id": "95c833ef",
   "metadata": {},
   "outputs": [],
   "source": [
    "def repeat_str(repeat, string):\n",
    "    str = string*repeat\n",
    "    return str"
   ]
  },
  {
   "cell_type": "code",
   "execution_count": 85,
   "id": "e9b8ac7b",
   "metadata": {},
   "outputs": [],
   "source": [
    "def greet(name):\n",
    "    return f\"Hello, {name} how are you doing today?\""
   ]
  },
  {
   "cell_type": "code",
   "execution_count": 86,
   "id": "6b6809b7",
   "metadata": {},
   "outputs": [],
   "source": [
    "def multiply(a, b):\n",
    "    c = a * b\n",
    "    return c"
   ]
  }
 ],
 "metadata": {
  "kernelspec": {
   "display_name": "Python 3 (ipykernel)",
   "language": "python",
   "name": "python3"
  },
  "language_info": {
   "codemirror_mode": {
    "name": "ipython",
    "version": 3
   },
   "file_extension": ".py",
   "mimetype": "text/x-python",
   "name": "python",
   "nbconvert_exporter": "python",
   "pygments_lexer": "ipython3",
   "version": "3.9.12"
  }
 },
 "nbformat": 4,
 "nbformat_minor": 5
}
